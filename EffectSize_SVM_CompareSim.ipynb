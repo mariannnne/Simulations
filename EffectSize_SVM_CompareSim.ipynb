{
 "cells": [
  {
   "cell_type": "markdown",
   "metadata": {},
   "source": [
    "## Comparison of measures of the magnitude of difference between two groups of data in univariate and multivariate models"
   ]
  },
  {
   "cell_type": "code",
   "execution_count": 1,
   "metadata": {
    "collapsed": false,
    "scrolled": true
   },
   "outputs": [
    {
     "name": "stderr",
     "output_type": "stream",
     "text": [
      "/Users/maus/anaconda2/lib/python2.7/site-packages/sklearn/cross_validation.py:44: DeprecationWarning: This module was deprecated in version 0.18 in favor of the model_selection module into which all the refactored classes and functions are moved. Also note that the interface of the new CV iterators are different from that of this module. This module will be removed in 0.20.\n",
      "  \"This module will be removed in 0.20.\", DeprecationWarning)\n"
     ]
    }
   ],
   "source": [
    "# load libraries\n",
    "import numpy as np\n",
    "import matplotlib.pyplot as plt\n",
    "from sklearn import svm\n",
    "from sklearn import model_selection\n",
    "from scipy import stats\n",
    "import pandas as pd\n",
    "from statsmodels.formula.api import ols\n",
    "from statsmodels.stats.anova import anova_lm\n",
    "from statsmodels.graphics.factorplots import interaction_plot\n",
    "from sklearn.cross_validation import LeaveOneOut\n",
    "from sklearn.cross_validation import KFold\n",
    "from sklearn.cross_validation import cross_val_score"
   ]
  },
  {
   "cell_type": "code",
   "execution_count": 2,
   "metadata": {
    "collapsed": false
   },
   "outputs": [],
   "source": [
    "# simulate two classes of data\n",
    "# Example 1: 20 examples each class - 40 separable points\n",
    "n=20\n",
    "feat=2\n",
    "np.random.seed(0)\n",
    "class1 = np.random.randn(n, feat) - [2, 2] # to change effect size alter these weights\n",
    "class2 = np.random.randn(n, feat) + [1, .75] # to change effect size alter these weights\n",
    "\n",
    "X = np.r_[class1, class2]\n",
    "Y = [0] * n + [1] * n"
   ]
  },
  {
   "cell_type": "code",
   "execution_count": 3,
   "metadata": {
    "collapsed": false
   },
   "outputs": [
    {
     "name": "stdout",
     "output_type": "stream",
     "text": [
      "Class 1 Mean\n",
      "[-1.47323693 -1.90167812]\n",
      "Class 2 Mean\n",
      "[ 0.45546893  0.54727699]\n",
      "Class 1 std\n",
      "[ 1.08198183  1.00157252]\n",
      "Class 2 std\n",
      "[ 0.75688435  0.82547162]\n",
      "Feature 1 two sample t-test\n",
      "-6.36684867105\n",
      "2.886325064e-07\n",
      "Feature 2 two sample t-test\n",
      "-8.22461456719\n",
      "7.60253874059e-10\n",
      "Effect Size\n",
      "[ 2.06567848  2.66841733]\n"
     ]
    }
   ],
   "source": [
    "# perform univariate test\n",
    "avg_class1 = np.mean(class1,axis=0)\n",
    "avg_class2 = np.mean(class2,axis=0)\n",
    "std_class1 = np.std(class1,axis=0)\n",
    "std_class2 = np.std(class2,axis=0)\n",
    "\n",
    "cohens_d = abs(avg_class1 - avg_class2) / (np.sqrt((std_class1 ** 2 + std_class2 ** 2) / 2))\n",
    "\n",
    "print \"Class 1 Mean\"\n",
    "print(avg_class1)\n",
    "print \"Class 2 Mean\"\n",
    "print(avg_class2)\n",
    "\n",
    "print \"Class 1 std\"\n",
    "print(std_class1)\n",
    "print \"Class 2 std\"\n",
    "print(std_class2)\n",
    "\n",
    "t1, p1 = stats.ttest_ind(class1[:,0], class2[:,0], equal_var=False)\n",
    "print \"Feature 1 two sample t-test\"\n",
    "print(t1)\n",
    "print(p1)\n",
    "t2, p2 = stats.ttest_ind(class1[:,1], class2[:,1], equal_var=False)\n",
    "print \"Feature 2 two sample t-test\"\n",
    "print(t2)\n",
    "print(p2)\n",
    "print \"Effect Size\"\n",
    "print(cohens_d)"
   ]
  },
  {
   "cell_type": "code",
   "execution_count": 4,
   "metadata": {
    "collapsed": false
   },
   "outputs": [
    {
     "name": "stdout",
     "output_type": "stream",
     "text": [
      "support vectors\n",
      "[[-0.23594765 -1.59984279]\n",
      " [-1.02126202  0.2408932 ]\n",
      " [-0.46722079 -0.53064123]\n",
      " [-0.76970932 -0.79762015]\n",
      " [-0.04855297 -0.67001794]\n",
      " [-0.61389785  0.53725972]\n",
      " [ 0.18685372 -0.9762826 ]\n",
      " [-0.63019835  1.21278226]]\n",
      "number of support vectors\n",
      "[4 4]\n",
      "CV 10 fold Accuracy: 0.97 (+/- 0.15)\n",
      "CV 5 fold Accuracy: 0.97 (+/- 0.10)\n"
     ]
    }
   ],
   "source": [
    "# perform multivariate classification\n",
    "\n",
    "# fit the model\n",
    "clf = svm.SVC(kernel='linear')\n",
    "clf.fit(X, Y)\n",
    "\n",
    "# get support vectors\n",
    "print \"support vectors\"\n",
    "print(clf.support_vectors_)\n",
    "# get indices of support vectors\n",
    "# print \"support vec indices\"\n",
    "# print(clf.support_)\n",
    "# get number of support vectors for each class\n",
    "print \"number of support vectors\"\n",
    "print(clf.n_support_ )\n",
    "\n",
    "# cv accuracy\n",
    "scores = cross_val_score(clf, X, Y, cv=10)\n",
    "print(\"CV 10 fold Accuracy: %0.2f (+/- %0.2f)\" % (scores.mean(), scores.std() * 2))\n",
    "\n",
    "scores = cross_val_score(clf, X, Y, cv=5)\n",
    "print(\"CV 5 fold Accuracy: %0.2f (+/- %0.2f)\" % (scores.mean(), scores.std() * 2))"
   ]
  },
  {
   "cell_type": "code",
   "execution_count": 5,
   "metadata": {
    "collapsed": false
   },
   "outputs": [
    {
     "name": "stdout",
     "output_type": "stream",
     "text": [
      "Automatically created module for IPython interactive environment\n"
     ]
    }
   ],
   "source": [
    "# Makes figures for 2 values of C\n",
    "\n",
    "print(__doc__)\n",
    "# Code source: Gaël Varoquaux\n",
    "import numpy as np\n",
    "import matplotlib.pyplot as plt\n",
    "from sklearn import svm\n",
    "\n",
    "# figure number\n",
    "fignum = 1\n",
    "\n",
    "# fit the model\n",
    "for name, penalty in (('unreg', 1), ('reg', .05)):\n",
    "\n",
    "    clf = svm.SVC(kernel='linear', C=penalty)\n",
    "    clf.fit(X, Y)\n",
    "\n",
    "    # get the separating hyperplane\n",
    "    w = clf.coef_[0]\n",
    "    a = -w[0] / w[1]\n",
    "    xx = np.linspace(-5, 5)\n",
    "    yy = a * xx - (clf.intercept_[0]) / w[1]\n",
    "\n",
    "    # plot the parallels to the separating hyperplane that pass through the\n",
    "    # support vectors\n",
    "    margin = 1 / np.sqrt(np.sum(clf.coef_ ** 2))\n",
    "    yy_down = yy + a * margin\n",
    "    yy_up = yy - a * margin\n",
    "\n",
    "    # plot the line, the points, and the nearest vectors to the plane\n",
    "    plt.figure(fignum, figsize=(4, 3))\n",
    "    plt.clf()\n",
    "    plt.plot(xx, yy, 'k-')\n",
    "    plt.plot(xx, yy_down, 'k--')\n",
    "    plt.plot(xx, yy_up, 'k--')\n",
    "\n",
    "    plt.scatter(clf.support_vectors_[:, 0], clf.support_vectors_[:, 1], s=80,\n",
    "                facecolors='none', zorder=10)\n",
    "    plt.scatter(X[:, 0], X[:, 1], c=Y, zorder=10, cmap=plt.cm.Paired)\n",
    "\n",
    "    plt.axis('tight')\n",
    "    x_min = -4.8\n",
    "    x_max = 4.2\n",
    "    y_min = -6\n",
    "    y_max = 6\n",
    "\n",
    "    XX, YY = np.mgrid[x_min:x_max:200j, y_min:y_max:200j]\n",
    "    Z = clf.predict(np.c_[XX.ravel(), YY.ravel()])\n",
    "\n",
    "    # Put the result into a color plot\n",
    "    Z = Z.reshape(XX.shape)\n",
    "    plt.figure(fignum, figsize=(4, 3))\n",
    "    plt.pcolormesh(XX, YY, Z, cmap=plt.cm.Paired)\n",
    "\n",
    "    plt.xlim(x_min, x_max)\n",
    "    plt.ylim(y_min, y_max)\n",
    "\n",
    "    plt.xticks(())\n",
    "    plt.yticks(())\n",
    "    fignum = fignum + 1\n",
    "\n",
    "plt.show()"
   ]
  },
  {
   "cell_type": "code",
   "execution_count": null,
   "metadata": {
    "collapsed": true
   },
   "outputs": [],
   "source": []
  }
 ],
 "metadata": {
  "kernelspec": {
   "display_name": "Python 2",
   "language": "python",
   "name": "python2"
  },
  "language_info": {
   "codemirror_mode": {
    "name": "ipython",
    "version": 2
   },
   "file_extension": ".py",
   "mimetype": "text/x-python",
   "name": "python",
   "nbconvert_exporter": "python",
   "pygments_lexer": "ipython2",
   "version": "2.7.12"
  }
 },
 "nbformat": 4,
 "nbformat_minor": 0
}
